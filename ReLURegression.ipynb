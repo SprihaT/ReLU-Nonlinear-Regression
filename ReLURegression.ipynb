{
  "cells": [
    {
      "cell_type": "markdown",
      "metadata": {
        "id": "view-in-github",
        "colab_type": "text"
      },
      "source": [
        "<a href=\"https://colab.research.google.com/github/SprihaT/ReLU-Nonlinear-Regression/blob/main/CW28.ipynb\" target=\"_parent\"><img src=\"https://colab.research.google.com/assets/colab-badge.svg\" alt=\"Open In Colab\"/></a>"
      ]
    },
    {
      "cell_type": "code",
      "execution_count": 31,
      "metadata": {
        "colab": {
          "base_uri": "https://localhost:8080/"
        },
        "id": "DQUKS_W7ABLd",
        "outputId": "028e0960-b458-4237-cf4b-808f11199180"
      },
      "outputs": [
        {
          "output_type": "stream",
          "name": "stdout",
          "text": [
            "CPU\n"
          ]
        }
      ],
      "source": [
        "import torch\n",
        "from torchvision import datasets, transforms\n",
        "\n",
        "import torch.nn as nn\n",
        "import torch.nn.functional as F\n",
        "\n",
        "import torch.optim as optim\n",
        "import matplotlib.pyplot as plt\n",
        "\n",
        "if torch.cuda.is_available():\n",
        "    device = torch.device(\"cuda:0\")\n",
        "    print(\"GPU\")\n",
        "else:\n",
        "    device = torch.device(\"cpu\")\n",
        "    print(\"CPU\")"
      ]
    },
    {
      "cell_type": "code",
      "execution_count": 32,
      "metadata": {
        "colab": {
          "base_uri": "https://localhost:8080/"
        },
        "id": "q8PMdEvACgqr",
        "outputId": "67461539-8021-4856-fdb0-ac543f2d446b"
      },
      "outputs": [
        {
          "output_type": "stream",
          "name": "stdout",
          "text": [
            "tensor([[1., 2., 3.]])\n",
            "Parameter containing:\n",
            "tensor([[-0.1358,  0.5415,  0.2754],\n",
            "        [ 0.2842,  0.5374,  0.4393]], requires_grad=True)\n",
            "Parameter containing:\n",
            "tensor([0.4449, 0.4670], requires_grad=True)\n",
            "tensor([[2.2181, 3.1439]], grad_fn=<AddmmBackward0>)\n"
          ]
        }
      ],
      "source": [
        "#Example of function \"nn.Linear\"\n",
        "input = torch.tensor([[1.0,2.0,3.0]]) # 1x3 matrix\n",
        "print(input)\n",
        "\n",
        "m =nn.Linear(3,2) # Y = X x^t +b  (w^t is 'transposed' to multiply with X properly)\n",
        "print(m.weight)\n",
        "print(m.bias)\n",
        "output = m(input)\n",
        "print(output)"
      ]
    },
    {
      "cell_type": "code",
      "execution_count": 33,
      "metadata": {
        "colab": {
          "base_uri": "https://localhost:8080/"
        },
        "id": "TOsZ2A1uE3D5",
        "outputId": "0ac98a6d-4612-4b3d-c7c0-6d873adf1455"
      },
      "outputs": [
        {
          "output_type": "stream",
          "name": "stdout",
          "text": [
            "n_samples: 21, n_features: 1\n"
          ]
        }
      ],
      "source": [
        "X = torch.tensor([[0], [1], [2], [3], [4], [5], [6], [7], [8], [9], [10], [11], [12], [13], [14], [15], [16], [17], [18], [19], [20]], dtype=torch.float32)\n",
        "Y = torch.tensor([[10], [10], [10], [10], [8], [6], [4], [3], [0], [0], [0], [0], [2], [4], [6], [8], [10], [10], [10], [10], [10]], dtype=torch.float32)\n",
        "\n",
        "n_samples, n_features = X.shape\n",
        "print(f'n_samples: {n_samples}, n_features: {n_features}')\n",
        "\n",
        "X_test = torch.tensor([[10.5]], dtype=torch.float32)\n",
        "Y_test = torch.tensor([[5]], dtype=torch.float32)"
      ]
    },
    {
      "cell_type": "code",
      "execution_count": 34,
      "metadata": {
        "colab": {
          "base_uri": "https://localhost:8080/"
        },
        "id": "ohhrClRmEmGt",
        "outputId": "59600e73-9bd5-4357-cbd9-0aeae9cfd180"
      },
      "outputs": [
        {
          "output_type": "stream",
          "name": "stdout",
          "text": [
            "Prediction before training: f(10.5) = 0.252\n"
          ]
        }
      ],
      "source": [
        "class LinearRegression(nn.Module):\n",
        "    def __init__(self, input_dim, output_dim):\n",
        "        super(LinearRegression, self).__init__()\n",
        "        self.input_layer = nn.Linear(1, 6) # Y = X w^t + b\n",
        "        self.hidden1 = nn.Linear(6, 6)\n",
        "        self.hidden2 = nn.Linear(6, 6)\n",
        "        self.hidden3 = nn.Linear(6, 6)\n",
        "        self.output_layer = nn.Linear(6, 1)\n",
        "\n",
        "    def forward(self, data):\n",
        "        data = F.relu(self.input_layer(data))\n",
        "        data = F.relu(self.hidden1(data))\n",
        "        data = F.relu(self.hidden2(data))\n",
        "        data = F.relu(self.hidden3(data))\n",
        "        data = self.output_layer(data)\n",
        "        return data\n",
        "\n",
        "# Input size, output size = n_features, n_features\n",
        "LRmodel = LinearRegression(1, 1)\n",
        "print(f'Prediction before training: f({X_test.item()}) = {LRmodel(X_test).item():.3f}')"
      ]
    },
    {
      "cell_type": "code",
      "execution_count": 35,
      "metadata": {
        "colab": {
          "base_uri": "https://localhost:8080/"
        },
        "id": "OBHrBA4kFBEA",
        "outputId": "e9f5cb81-d0dd-4fab-9713-691ccc7d61e8"
      },
      "outputs": [
        {
          "output_type": "stream",
          "name": "stdout",
          "text": [
            "Epoch [0/10000], Loss: 51.54125214\n",
            "Epoch [1000/10000], Loss: 0.03445602\n",
            "Epoch [2000/10000], Loss: 0.03369036\n",
            "Epoch [3000/10000], Loss: 0.04056411\n",
            "Epoch [4000/10000], Loss: 0.03371299\n",
            "Epoch [5000/10000], Loss: 0.03356020\n",
            "Epoch [6000/10000], Loss: 0.03356016\n",
            "Epoch [7000/10000], Loss: 0.03362913\n",
            "Epoch [8000/10000], Loss: 0.03986137\n",
            "Epoch [9000/10000], Loss: 0.03365018\n",
            "Prediction after training: f(10.5) = -0.000\n"
          ]
        }
      ],
      "source": [
        "learning_rate = 0.01 # Slope = rise/run. Learning rate is \"run\" in slope.\n",
        "cost = nn.MSELoss() # Mean Square Error Loss function or cost function\n",
        "optimizer = torch.optim.Adam(LRmodel.parameters(), lr=learning_rate) # SGD: Stochastic Gradient Descent\n",
        "\n",
        "n_epochs = 10000 # Calculate w and b 100000 times\n",
        "for epoch in range(n_epochs):\n",
        "    y_predicted = LRmodel(X)\n",
        "    loss = cost(y_predicted, Y)\n",
        "\n",
        "    loss.backward() # Calculate slope of cost function (gradients)\n",
        "    optimizer.step() # Update weights using gradient descent\n",
        "    optimizer.zero_grad() # Reset gradients for next iteration\n",
        "\n",
        "    if epoch % 1000 == 0:\n",
        "        print(f'Epoch [{epoch}/{n_epochs}], Loss: {loss.item():.8f}')\n",
        "\n",
        "print(f'Prediction after training: f({X_test.item()}) = {LRmodel(X_test).item():.3f}')"
      ]
    },
    {
      "cell_type": "code",
      "source": [
        "# prompt: plot the graph of my training data and draw a line using the weights and biases from my optimized data\n",
        "\n",
        "import matplotlib.pyplot as plt\n",
        "\n",
        "# Assuming you have your trained model (LRmodel) and your data (X, Y)\n",
        "# Get the weights and biases from the model\n",
        "weights = LRmodel.output_layer.weight.detach().numpy()\n",
        "bias = LRmodel.output_layer.bias.detach().numpy()\n",
        "\n",
        "# Create a line using the weights and bias\n",
        "line_x = torch.linspace(X.min(), X.max(), 100).reshape(-1, 1)\n",
        "line_y = LRmodel(line_x).detach().numpy()\n",
        "\n",
        "\n",
        "# Plot the data and line\n",
        "plt.scatter(X.numpy(), Y.numpy(), label='Training data')\n",
        "plt.plot(line_x.numpy(), line_y, color='red', label='Optimized Line')\n",
        "plt.xlabel('X')\n",
        "plt.ylabel('Y')\n",
        "plt.legend()\n",
        "plt.title('Training Data and Optimized Line')\n",
        "plt.show()\n"
      ],
      "metadata": {
        "colab": {
          "base_uri": "https://localhost:8080/",
          "height": 472
        },
        "id": "de_OUsfFtwdy",
        "outputId": "67ae1056-03c1-480a-fc26-60b24aa0a207"
      },
      "execution_count": 36,
      "outputs": [
        {
          "output_type": "display_data",
          "data": {
            "text/plain": [
              "<Figure size 640x480 with 1 Axes>"
            ],
            "image/png": "[encoded data removed]"
          },
          "metadata": {}
        }
      ]
    }
  ],
  "metadata": {
    "colab": {
      "provenance": [],
      "authorship_tag": "ABX9TyP7bUORH4NVib2a+AM87Zt/",
      "include_colab_link": true
    },
    "kernelspec": {
      "display_name": "Python 3",
      "name": "python3"
    },
    "language_info": {
      "name": "python"
    }
  },
  "nbformat": 4,
  "nbformat_minor": 0
}
